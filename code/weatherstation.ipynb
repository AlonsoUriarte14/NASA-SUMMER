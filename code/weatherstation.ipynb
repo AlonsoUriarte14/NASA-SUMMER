{
 "cells": [
  {
   "cell_type": "code",
   "execution_count": 33,
   "metadata": {},
   "outputs": [
    {
     "ename": "ModuleNotFoundError",
     "evalue": "No module named 'bme680'",
     "output_type": "error",
     "traceback": [
      "\u001b[1;31m---------------------------------------------------------------------------\u001b[0m",
      "\u001b[1;31mModuleNotFoundError\u001b[0m                       Traceback (most recent call last)",
      "\u001b[1;32mc:\\Users\\dasus\\Documents\\NASA SUMMER\\code\\weatherstation.ipynb Cell 1\u001b[0m in \u001b[0;36m<module>\u001b[1;34m\u001b[0m\n\u001b[0;32m      <a href='vscode-notebook-cell:/c%3A/Users/dasus/Documents/NASA%20SUMMER/code/weatherstation.ipynb#W0sZmlsZQ%3D%3D?line=2'>3</a>\u001b[0m \u001b[39mimport\u001b[39;00m \u001b[39mmatplotlib\u001b[39;00m\u001b[39m.\u001b[39;00m\u001b[39manimation\u001b[39;00m \u001b[39mas\u001b[39;00m \u001b[39manimation\u001b[39;00m\n\u001b[0;32m      <a href='vscode-notebook-cell:/c%3A/Users/dasus/Documents/NASA%20SUMMER/code/weatherstation.ipynb#W0sZmlsZQ%3D%3D?line=3'>4</a>\u001b[0m \u001b[39mimport\u001b[39;00m \u001b[39mnumpy\u001b[39;00m \u001b[39mas\u001b[39;00m \u001b[39mnp\u001b[39;00m\n\u001b[1;32m----> <a href='vscode-notebook-cell:/c%3A/Users/dasus/Documents/NASA%20SUMMER/code/weatherstation.ipynb#W0sZmlsZQ%3D%3D?line=4'>5</a>\u001b[0m \u001b[39mimport\u001b[39;00m \u001b[39mbme680\u001b[39;00m \u001b[39mas\u001b[39;00m \u001b[39mbm\u001b[39;00m\n\u001b[0;32m      <a href='vscode-notebook-cell:/c%3A/Users/dasus/Documents/NASA%20SUMMER/code/weatherstation.ipynb#W0sZmlsZQ%3D%3D?line=6'>7</a>\u001b[0m \u001b[39mclass\u001b[39;00m \u001b[39mGroveBME680\u001b[39;00m(\u001b[39mobject\u001b[39m):\n\u001b[0;32m      <a href='vscode-notebook-cell:/c%3A/Users/dasus/Documents/NASA%20SUMMER/code/weatherstation.ipynb#W0sZmlsZQ%3D%3D?line=7'>8</a>\u001b[0m     \u001b[39mdef\u001b[39;00m \u001b[39m__init__\u001b[39m(\u001b[39mself\u001b[39m):\n",
      "\u001b[1;31mModuleNotFoundError\u001b[0m: No module named 'bme680'"
     ]
    }
   ],
   "source": [
    "from datetime import datetime\n",
    "import matplotlib.pyplot as plt\n",
    "import matplotlib.animation as animation\n",
    "import numpy as np\n",
    "import bme680 as bm\n",
    "\n",
    "class GroveBME680(object):\n",
    "    def __init__(self):\n",
    "        snr = bm.BME680(bm.I2C_ADDR_PRIMARY)\n",
    "\n",
    "        # over sample, make data more accuracy\n",
    "        snr.set_humidity_oversample(bm.OS_2X)\n",
    "        snr.set_pressure_oversample(bm.OS_4X)\n",
    "        snr.set_temperature_oversample(bm.OS_8X)\n",
    "        snr.set_filter(bm.FILTER_SIZE_3)\n",
    "        snr.set_gas_status(bm.ENABLE_GAS_MEAS)\n",
    "\n",
    "        # profile # 0\n",
    "        snr.set_gas_heater_temperature(320)\n",
    "        snr.set_gas_heater_duration(150)\n",
    "        snr.select_gas_heater_profile(0)\n",
    "\n",
    "        # profile # 1\n",
    "        # snr.set_gas_heater_profile(200, 150, nb_profile=1)\n",
    "        # snr.select_gas_heater_profile(1)\n",
    "\n",
    "        # Initial reading\n",
    "        snr.get_sensor_data()\n",
    "        snr.get_sensor_data()\n",
    "\n",
    "        self.snr = snr\n",
    "\n",
    "    def read(self):\n",
    "        if self.snr.get_sensor_data():\n",
    "            return self.snr.data\n",
    "        return None\n"
   ]
  },
  {
   "cell_type": "code",
   "execution_count": 34,
   "metadata": {},
   "outputs": [],
   "source": [
    "def animate(frame, sensor, tempPlot, pressurePlot, humidityPlot, gasPlot, x, y):\n",
    "    \n",
    "    #read temp from grove sensor\n",
    "    data = sensor.read()\n",
    "    \n",
    "    if data and data.heat_stable:\n",
    "        \n",
    "        #append data to x and y lists\n",
    "        x.append(datetime.now().strftime(\"%d\"))\n",
    "        y[\"temp\"].append(data.temperature)\n",
    "        y[\"pressure\"].append(data.pressure)\n",
    "        y[\"humidity\"].append(data.humidity)\n",
    "        y[\"gas\"].append(data.gas_resistance)\n",
    "        \n",
    "        #limit x and y axis to 20 items to plot\n",
    "        x = x[-20:]\n",
    "        y[\"temp\"] = y[\"temp\"][-20:]\n",
    "        y[\"pressure\"] = y[\"pressure\"][-20:]\n",
    "        y[\"humidity\"] = y[\"humidity\"][-20:]\n",
    "        y[\"gas\"] = y[\"gas\"][-20:]\n",
    "        \n",
    "        tempPlot.clear()\n",
    "        pressurePlot.clear()\n",
    "        humidityPlot.clear()\n",
    "        gasPlot.clear()\n",
    "        \n",
    "        tempPlot.plot(x, y[\"temp\"], \"r\")\n",
    "        pressurePlot.plot(x, y[\"pressure\"], \"g\")\n",
    "        humidityPlot.plot(x, y[\"humidity\"], \"b\")\n",
    "        gasPlot.plot(x, y[\"gas\"], \"k\")\n",
    "        \n",
    "    \n",
    "\n",
    "    \n",
    "    "
   ]
  },
  {
   "cell_type": "code",
   "execution_count": 35,
   "metadata": {},
   "outputs": [
    {
     "data": {
      "image/png": "[encoded data removed]",
      "text/plain": [
       "<Figure size 432x288 with 4 Axes>"
      ]
     },
     "metadata": {
      "needs_background": "light"
     },
     "output_type": "display_data"
    }
   ],
   "source": [
    "\n",
    "fig = plt.figure()\n",
    "fig.suptitle(\"Weather Station Data\")\n",
    "tempPlot = fig.add_subplot(221)\n",
    "pressurePlot = fig.add_subplot(222)\n",
    "humidityPlot = fig.add_subplot(223)\n",
    "gasPlot = fig.add_subplot(224)\n",
    "\n",
    "\n",
    "tempPlot.set_title(\"Temperature (°F) vs Time (s)\")\n",
    "pressurePlot.set_title(\"Pressure (hPa) vs Time (s)\")\n",
    "humidityPlot.set_title(\"Humidity (%RH) vs Time (s)\")\n",
    "gasPlot.set_title(\"Gas Resistance (Ω) vs Time (s)\")\n",
    "\n",
    "x = []\n",
    "y = {\n",
    "    \"temp\": [],\n",
    "    \"pressure\": [], \n",
    "    \"humidity\": [],\n",
    "    \"gas\": [],\n",
    "}\n",
    "\n",
    "\n",
    "fig.tight_layout()\n",
    "# tempPlot.set_xticks([])\n",
    "# pressurePlot.set_xticks([])\n",
    "# humidityPlot.set_xticks([])\n",
    "# gasPlot.set_xticks([])\n",
    "\n",
    "\n",
    "    \n",
    "    "
   ]
  },
  {
   "cell_type": "code",
   "execution_count": 37,
   "metadata": {},
   "outputs": [
    {
     "ename": "NameError",
     "evalue": "name 'GroveBME680' is not defined",
     "output_type": "error",
     "traceback": [
      "\u001b[1;31m---------------------------------------------------------------------------\u001b[0m",
      "\u001b[1;31mNameError\u001b[0m                                 Traceback (most recent call last)",
      "\u001b[1;32mc:\\Users\\dasus\\Documents\\NASA SUMMER\\code\\weatherstation.ipynb Cell 4\u001b[0m in \u001b[0;36m<module>\u001b[1;34m\u001b[0m\n\u001b[1;32m----> <a href='vscode-notebook-cell:/c%3A/Users/dasus/Documents/NASA%20SUMMER/code/weatherstation.ipynb#W4sZmlsZQ%3D%3D?line=0'>1</a>\u001b[0m sensor \u001b[39m=\u001b[39m GroveBME680()\n\u001b[0;32m      <a href='vscode-notebook-cell:/c%3A/Users/dasus/Documents/NASA%20SUMMER/code/weatherstation.ipynb#W4sZmlsZQ%3D%3D?line=1'>2</a>\u001b[0m ani \u001b[39m=\u001b[39m animation\u001b[39m.\u001b[39mFuncAnimation(fig, animate, fargs\u001b[39m=\u001b[39m(sensor, tempPlot, pressurePlot, humidityPlot, gasPlot, x, y))\n",
      "\u001b[1;31mNameError\u001b[0m: name 'GroveBME680' is not defined"
     ]
    }
   ],
   "source": [
    "sensor = GroveBME680()\n",
    "ani = animation.FuncAnimation(fig, animate, fargs=(sensor, tempPlot, pressurePlot, humidityPlot, gasPlot, x, y))\n",
    "plt.show()"
   ]
  }
 ],
 "metadata": {
  "kernelspec": {
   "display_name": "Python 3",
   "language": "python",
   "name": "python3"
  },
  "language_info": {
   "codemirror_mode": {
    "name": "ipython",
    "version": 3
   },
   "file_extension": ".py",
   "mimetype": "text/x-python",
   "name": "python",
   "nbconvert_exporter": "python",
   "pygments_lexer": "ipython3",
   "version": "3.10.1"
  },
  "orig_nbformat": 4
 },
 "nbformat": 4,
 "nbformat_minor": 2
}
